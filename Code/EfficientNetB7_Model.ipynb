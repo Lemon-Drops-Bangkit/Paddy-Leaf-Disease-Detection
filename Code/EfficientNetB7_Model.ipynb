{
 "cells": [
  {
   "cell_type": "code",
   "execution_count": null,
   "id": "275cfd0c",
   "metadata": {},
   "outputs": [],
   "source": [
    "import numpy as np\n",
    "import matplotlib.pylab as plt\n",
    "\n",
    "import tensorflow as tf\n",
    "from tensorflow.keras.preprocessing.image import img_to_array, load_img\n",
    "from tensorflow.keras import layers\n",
    "from tensorflow.keras import Model\n",
    "from tensorflow.keras.applications.efficientnet import EfficientNetB7\n",
    "import tensorflow_hub as hub\n",
    "\n",
    "import shutil\n",
    "import os\n",
    "import random"
   ]
  },
  {
   "cell_type": "code",
   "execution_count": null,
   "id": "d671d6fc",
   "metadata": {},
   "outputs": [],
   "source": [
    "def training_graph(history, epochs):\n",
    "    acc = history.history['accuracy']\n",
    "    val_acc = history.history['val_accuracy']\n",
    "\n",
    "    loss = history.history['loss']\n",
    "    val_loss = history.history['val_loss']\n",
    "\n",
    "    epochs_range = range(epochs)\n",
    "\n",
    "    plt.figure(figsize = (20, 8))\n",
    "    plt.subplot(1, 2, 1)\n",
    "    plt.plot(epochs_range, acc, label = 'Training Accuracy')\n",
    "    plt.plot(epochs_range, val_acc, label = 'Validation Accuracy')\n",
    "    plt.legend(loc = 'lower right')\n",
    "    plt.title('Training and Validation Accuracy')\n",
    "    plt.ylabel(\"Accuracy (training and validation)\")\n",
    "    plt.xlabel(\"Training Steps\")\n",
    "\n",
    "    plt.subplot(1, 2, 2)\n",
    "    plt.plot(epochs_range, loss, label = 'Training Loss')\n",
    "    plt.plot(epochs_range, val_loss, label = 'Validation Loss')\n",
    "    plt.legend(loc='upper right')\n",
    "    plt.title('Training and Validation Loss')\n",
    "    plt.ylabel(\"Loss (training and validation)\")\n",
    "    plt.xlabel(\"Training Steps\")\n",
    "    plt.show()"
   ]
  },
  {
   "cell_type": "code",
   "execution_count": null,
   "id": "7aecc0ea",
   "metadata": {},
   "outputs": [],
   "source": [
    "base_path = os.getcwd()\n",
    "print(\"Base URL :\", base_path)\n",
    "\n",
    "image_size = (244, 244)\n",
    "batch_size = 64\n",
    "\n",
    "train_dir = base_path + '/data/train'\n",
    "validation_dir = base_path + '/data/validation'"
   ]
  },
  {
   "cell_type": "code",
   "execution_count": null,
   "id": "893df120",
   "metadata": {},
   "outputs": [],
   "source": [
    "train_datagen = tf.keras.preprocessing.image.ImageDataGenerator(\n",
    "    rescale = 1./255,\n",
    "    rotation_range = 90,\n",
    "    horizontal_flip = True,\n",
    "    width_shift_range = 0.2, \n",
    "    height_shift_range = 0.2,\n",
    "    shear_range = 0.2, \n",
    "    zoom_range = 0.5,\n",
    "    fill_mode = 'nearest')\n",
    "train_generator = train_datagen.flow_from_directory(\n",
    "    train_dir,  \n",
    "    shuffle = True, \n",
    "    seed = 42,\n",
    "    color_mode = \"rgb\", \n",
    "    class_mode = \"categorical\",\n",
    "    target_size = image_size,\n",
    "    batch_size = batch_size)\n",
    "\n",
    "validation_datagen = tf.keras.preprocessing.image.ImageDataGenerator(\n",
    "    rescale = 1./255)\n",
    "validation_generator = validation_datagen.flow_from_directory(\n",
    "    validation_dir, \n",
    "    shuffle = False, \n",
    "    seed = 42,\n",
    "    color_mode = \"rgb\", \n",
    "    class_mode = \"categorical\",\n",
    "    target_size = image_size,\n",
    "    batch_size = batch_size)"
   ]
  },
  {
   "cell_type": "code",
   "execution_count": null,
   "id": "389ca31f",
   "metadata": {},
   "outputs": [],
   "source": [
    "class MyCallback(tf.keras.callbacks.Callback):\n",
    "    def on_epoch_end(self, epoch, log = {}):\n",
    "        if(log.get('accuracy') > 0.99):\n",
    "            if(log.get('val_accuracy') > 0.99):\n",
    "                print(\"\\n Reached 99% Accuracy for both train and val.\")\n",
    "                self.model.stop_training = True\n",
    "\n",
    "callbacks = MyCallback()"
   ]
  },
  {
   "cell_type": "code",
   "execution_count": null,
   "id": "f663e0d2",
   "metadata": {},
   "outputs": [],
   "source": [
    "model = tf.keras.Sequential([\n",
    "    hub.KerasLayer(\"https://tfhub.dev/tensorflow/efficientnet/b7/feature-vector/1\", trainable=False, name=\"EfficientNetB7\"),\n",
    "    tf.keras.layers.Dense(512, activation = 'relu'),\n",
    "    tf.keras.layers.Dropout(0.4),\n",
    "    tf.keras.layers.Dense(num_classes, activation = 'softmax')\n",
    "])\n",
    "\n",
    "model.build([None, image_size[0], image_size[1], 3])\n",
    "model.summary()"
   ]
  },
  {
   "cell_type": "code",
   "execution_count": null,
   "id": "6ce25e1e",
   "metadata": {},
   "outputs": [],
   "source": [
    "name_model = \"EfficientNetB7_Model\"\n",
    "model.save(base_path + \"/model/{}\".format(name_model))\n",
    "#model = tf.keras.models.load_model(base_path + \"/model/{}\".format(name_model))"
   ]
  },
  {
   "cell_type": "code",
   "execution_count": null,
   "id": "c09d7438",
   "metadata": {},
   "outputs": [],
   "source": [
    "learning_rate = 0.001\n",
    "epochs = 10\n",
    "\n",
    "for x in range(7):\n",
    "    model.compile(\n",
    "        optimizer=tf.keras.optimizers.Adam(learning_rate = learning_rate), \n",
    "        loss = 'categorical_crossentropy',\n",
    "        metrics = ['accuracy'])\n",
    "\n",
    "    history = model.fit(\n",
    "        train_generator,\n",
    "        steps_per_epoch = train_generator.samples // train_generator.batch_size,\n",
    "        epochs = epochs,\n",
    "        validation_data = validation_generator,\n",
    "        callbacks = [callbacks],\n",
    "        validation_steps = validation_generator.samples // validation_generator.batch_size)\n",
    "    \n",
    "    model.save(base_path + \"/model/{}\".format(name_model))"
   ]
  },
  {
   "cell_type": "code",
   "execution_count": null,
   "id": "d4d751bd",
   "metadata": {},
   "outputs": [],
   "source": [
    "training_graph(history, epochs)"
   ]
  },
  {
   "cell_type": "code",
   "execution_count": null,
   "id": "240fe747",
   "metadata": {},
   "outputs": [],
   "source": []
  }
 ],
 "metadata": {
  "kernelspec": {
   "display_name": "Python 3",
   "language": "python",
   "name": "python3"
  },
  "language_info": {
   "codemirror_mode": {
    "name": "ipython",
    "version": 3
   },
   "file_extension": ".py",
   "mimetype": "text/x-python",
   "name": "python",
   "nbconvert_exporter": "python",
   "pygments_lexer": "ipython3",
   "version": "3.8.8"
  }
 },
 "nbformat": 4,
 "nbformat_minor": 5
}
