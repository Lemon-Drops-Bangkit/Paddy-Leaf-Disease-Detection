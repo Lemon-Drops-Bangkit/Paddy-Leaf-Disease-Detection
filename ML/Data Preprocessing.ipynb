{
 "cells": [
  {
   "cell_type": "code",
   "execution_count": 1,
   "id": "90dd70c2",
   "metadata": {},
   "outputs": [],
   "source": [
    "import os\n",
    "from random import shuffle\n",
    "import shutil\n",
    "from PIL import Image"
   ]
  },
  {
   "cell_type": "code",
   "execution_count": 2,
   "id": "f5090906",
   "metadata": {},
   "outputs": [],
   "source": [
    "\"\"\"Helper functions\"\"\"\n",
    "def create_directory(path):\n",
    "    if os.path.exists(path):\n",
    "        shutil.rmtree(path)\n",
    "        os.makedirs(path)\n",
    "        print(\"Directory \", path,  \" Created \")\n",
    "    elif not os.path.exists(path):\n",
    "        os.makedirs(path)\n",
    "        print(\"Directory \", path,  \" Created \")\n",
    "\n",
    "def copy_file(list, curr, output):\n",
    "    for file in list:\n",
    "        file_path = curr + \"/\" + file\n",
    "        shutil.copy(file_path, output)        \n",
    "\n",
    "def get_file_list_from_dir(path):\n",
    "    all_files = os.listdir(path)\n",
    "    return all_files\n",
    "\n",
    "def resize(input_path, size):\n",
    "    dirs = os.listdir(input_path)\n",
    "    for item in dirs:\n",
    "        item_path = input_path + '/' + item\n",
    "        if os.path.isfile(item_path):\n",
    "            #print('CHECK')\n",
    "            im = Image.open(item_path)\n",
    "\n",
    "            # Check whether the specified \n",
    "            # path exists or not \n",
    "            outpath = input_path\n",
    "            temp_out_path = outpath + '/' + item\n",
    "            name, e = os.path.splitext(temp_out_path)\n",
    "\n",
    "            imResize = im.resize(size, Image.ANTIALIAS)\n",
    "            #print('CHECK 3')\n",
    "            imResize.save(name + '.jpg', 'JPEG', quality=90)\n",
    "\n",
    "def count(path):\n",
    "    counts = 0\n",
    "    for root, dirs, files in os.walk(path):\n",
    "        for file in files:    \n",
    "            counts += 1\n",
    "    return counts\n",
    "\n",
    "def merge_data(data, path, label, author):\n",
    "    if data == \"train\":\n",
    "        out_dir = out_dir_train\n",
    "    elif data == \"validation\":\n",
    "        out_dir = out_dir_validation\n",
    "    else:\n",
    "        print(\"Wrong outdir\")\n",
    "    get_file = get_file_list_from_dir(path)\n",
    "    for file in get_file:\n",
    "        if not os.path.exists(out_dir + \"/\" + label + \"/\" + author + \"_\" + file):\n",
    "            file_path = path + \"/\" + file\n",
    "            shutil.copy(file_path, out_dir + \"/\" + label)\n",
    "            os.rename(out_dir + \"/\" + label + \"/\" + file, out_dir + \"/\" + label + \"/\" + author + \"_\" + file)"
   ]
  },
  {
   "cell_type": "code",
   "execution_count": 3,
   "id": "23b7f530",
   "metadata": {},
   "outputs": [
    {
     "name": "stdout",
     "output_type": "stream",
     "text": [
      "Directory  data/train/Brown_Spot  Created \n",
      "Directory  data/validation/Brown_Spot  Created \n",
      "Directory  data/train/Healthy  Created \n",
      "Directory  data/validation/Healthy  Created \n",
      "Directory  data/train/Hispa  Created \n",
      "Directory  data/validation/Hispa  Created \n",
      "Directory  data/train/Leaf_Blast  Created \n",
      "Directory  data/validation/Leaf_Blast  Created \n"
     ]
    }
   ],
   "source": [
    "# path to riceleafs dataset from https://www.kaggle.com/shayanriyaz/riceleafs\n",
    "shayanriyaz_train = 'D:/Bangkit/Paddy Leaf/Dataset/RiceLeafs/train' \n",
    "shayanriyaz_validation = 'D:/Bangkit/Paddy Leaf/Dataset/RiceLeafs/validation'\n",
    "\n",
    "# path to rice-leaf-diseases dataset from https://www.kaggle.com/vbookshelf/rice-leaf-diseases\n",
    "vbookshelf_train = 'rice-leaf-diseases/train'\n",
    "vbookshelf_validation = 'rice-leaf-diseases/validation'\n",
    "\n",
    "# path to RiceDiseaseDataset dataset from https://www.kaggle.com/minhhuy2810/rice-diseases-image-dataset\n",
    "minhhuy2810_train = 'D:/Bangkit/Paddy Leaf/Dataset/rice-diseases-image-dataset/RiceDiseaseDataset/train' \n",
    "minhhuy2810_validation = 'D:/Bangkit/Paddy Leaf/Dataset/rice-diseases-image-dataset/RiceDiseaseDataset/validation'\n",
    "\n",
    "# path to LabelledRice dataset from https://www.kaggle.com/minhhuy2810/rice-diseases-image-dataset\n",
    "labelledrice_train = 'Labelled/train'\n",
    "labelledrice_validation = 'Labelled/validation'\n",
    "\n",
    "# Create target directory & all intermediate directories if don't exists\n",
    "column_names = ['Brown_Spot', 'Healthy', 'Hispa', 'Leaf_Blast']\n",
    "out_dir_train = 'data/train'\n",
    "out_dir_validation = 'data/validation'\n",
    "\n",
    "for i in column_names:\n",
    "    create_directory(out_dir_train + \"/{}\".format(i))\n",
    "    create_directory(out_dir_validation + \"/{}\".format(i))"
   ]
  },
  {
   "cell_type": "code",
   "execution_count": 4,
   "id": "ce4fb11e",
   "metadata": {},
   "outputs": [
    {
     "name": "stdout",
     "output_type": "stream",
     "text": [
      "Total files in shayanriyaz 2684\n",
      "Total files in vbookshelf 28\n",
      "Total files in minhhuy2810 1600\n",
      "Total files in labelledrice 2347\n",
      "Total files in Training 6659\n"
     ]
    }
   ],
   "source": [
    "author = [\"shayanriyaz\", \"vbookshelf\", \"minhhuy2810\", \"labelledrice\"]\n",
    "author_path_train = {\n",
    "    \"shayanriyaz\": shayanriyaz_train,\n",
    "    \"vbookshelf\": vbookshelf_train,\n",
    "    \"minhhuy2810\": minhhuy2810_train,\n",
    "    \"labelledrice\": labelledrice_train\n",
    "}\n",
    "total = 0\n",
    "for x in author:\n",
    "    print(\"Total files in {}\".format(x), count(author_path_train[x]))\n",
    "    total += count(author_path_train[x])\n",
    "\n",
    "print(\"Total files in Training\", total)"
   ]
  },
  {
   "cell_type": "code",
   "execution_count": 5,
   "id": "f89ca151",
   "metadata": {},
   "outputs": [
    {
     "name": "stdout",
     "output_type": "stream",
     "text": [
      "Total files in shayanriyaz 671\n",
      "Total files in vbookshelf 12\n",
      "Total files in minhhuy2810 492\n",
      "Total files in labelledrice 1008\n",
      "Total files in Validation 2183\n"
     ]
    }
   ],
   "source": [
    "author = [\"shayanriyaz\", \"vbookshelf\", \"minhhuy2810\", \"labelledrice\"]\n",
    "author_path_validation = {\n",
    "    \"shayanriyaz\": shayanriyaz_validation,\n",
    "    \"vbookshelf\": vbookshelf_validation,\n",
    "    \"minhhuy2810\": minhhuy2810_validation,\n",
    "    \"labelledrice\": labelledrice_validation\n",
    "}\n",
    "total = 0\n",
    "for x in author:\n",
    "    print(\"Total files in {}\".format(x), count(author_path_validation[x]))\n",
    "    total += count(author_path_validation[x])\n",
    "\n",
    "print(\"Total files in Validation\", total)"
   ]
  },
  {
   "cell_type": "code",
   "execution_count": 6,
   "id": "1c8550e6",
   "metadata": {},
   "outputs": [
    {
     "data": {
      "text/plain": [
       "'\\n# merge all train/validation dataset\\n# Brown Spot\\npath = shayanriyaz_train + \"/BrownSpot\"\\nlabel = \"Brown_Spot\"\\nauthor = \"shayanriyaz\"\\ndata = \"train\"\\nmerge_data(data, path, label, author)\\n\\npath = shayanriyaz_validation + \"/BrownSpot\"\\nlabel = \"Brown_Spot\"\\nauthor = \"shayanriyaz\"\\ndata = \"validation\"\\nmerge_data(data, path, label, author)\\n\\npath = vbookshelf_train + \"/Brown_Spot\"\\nlabel = \"Brown_Spot\"\\nauthor = \"vbookshelf\"\\ndata = \"train\"\\nmerge_data(data, path, label, author)\\n        \\npath = vbookshelf_validation + \"/Brown_Spot\"\\nlabel = \"Brown_Spot\"\\nauthor = \"vbookshelf\"\\ndata = \"validation\"\\nmerge_data(data, path, label, author)\\n\\npath = minhhuy2810_train + \"/BrownSpot\"\\nlabel = \"Brown_Spot\"\\nauthor = \"minhhuy2810\"\\ndata = \"train\"\\nmerge_data(data, path, label, author)\\n\\npath = minhhuy2810_validation + \"/BrownSpot\"\\nlabel = \"Brown_Spot\"\\nauthor = \"minhhuy2810\"\\ndata = \"validation\"\\nmerge_data(data, path, label, author)\\n\\npath = labelledrice_train + \"/Brown_Spot\"\\nlabel = \"Brown_Spot\"\\nauthor = \"labelledrice\"\\ndata = \"train\"\\nmerge_data(data, path, label, author)\\n        \\npath = labelledrice_validation + \"/Brown_Spot\"\\nlabel = \"Brown_Spot\"\\nauthor = \"labelledrice\"\\ndata = \"validation\"\\nmerge_data(data, path, label, author)\\n\\n# Healthy\\npath = shayanriyaz_train + \"/Healthy\"\\nlabel = \"Healthy\"\\nauthor = \"shayanriyaz\"\\ndata = \"train\"\\nmerge_data(data, path, label, author)\\n\\npath = shayanriyaz_validation + \"/Healthy\"\\nlabel = \"Healthy\"\\nauthor = \"shayanriyaz\"\\ndata = \"validation\"\\nmerge_data(data, path, label, author)\\n\\npath = minhhuy2810_train + \"/Healthy\"\\nlabel = \"Healthy\"\\nauthor = \"minhhuy2810\"\\ndata = \"train\"\\nmerge_data(data, path, label, author)\\n\\npath = minhhuy2810_validation + \"/Healthy\"\\nlabel = \"Healthy\"\\nauthor = \"minhhuy2810\"\\ndata = \"validation\"\\nmerge_data(data, path, label, author)\\n\\npath = labelledrice_train + \"/Healthy\"\\nlabel = \"Healthy\"\\nauthor = \"labelledrice\"\\ndata = \"train\"\\nmerge_data(data, path, label, author)\\n        \\npath = labelledrice_validation + \"/Healthy\"\\nlabel = \"Healthy\"\\nauthor = \"labelledrice\"\\ndata = \"validation\"\\nmerge_data(data, path, label, author)\\n\\n# Hispa\\npath = shayanriyaz_train + \"/Hispa\"\\nlabel = \"Hispa\"\\nauthor = \"shayanriyaz\"\\ndata = \"train\"\\nmerge_data(data, path, label, author)\\n        \\npath = shayanriyaz_validation + \"/Hispa\"\\nlabel = \"Hispa\"\\nauthor = \"shayanriyaz\"\\ndata = \"validation\"\\nmerge_data(data, path, label, author)\\n\\npath = minhhuy2810_train + \"/Hispa\"\\nlabel = \"Hispa\"\\nauthor = \"minhhuy2810\"\\ndata = \"train\"\\nmerge_data(data, path, label, author)\\n        \\npath = minhhuy2810_validation + \"/Hispa\"\\nlabel = \"Hispa\"\\nauthor = \"minhhuy2810\"\\ndata = \"validation\"\\nmerge_data(data, path, label, author)\\n\\npath = labelledrice_train + \"/Hispa\"\\nlabel = \"Hispa\"\\nauthor = \"labelledrice\"\\ndata = \"train\"\\nmerge_data(data, path, label, author)\\n        \\npath = labelledrice_validation + \"/Hispa\"\\nlabel = \"Hispa\"\\nauthor = \"labelledrice\"\\ndata = \"validation\"\\nmerge_data(data, path, label, author)\\n\\n# Leaf Blast\\npath = shayanriyaz_train + \"/LeafBlast\"\\nlabel = \"Leaf_Blast\"\\nauthor = \"shayanriyaz\"\\ndata = \"train\"\\nmerge_data(data, path, label, author)\\n\\npath = shayanriyaz_validation + \"/LeafBlast\"\\nlabel = \"Leaf_Blast\"\\nauthor = \"shayanriyaz\"\\ndata = \"validation\"\\nmerge_data(data, path, label, author)\\n\\npath = minhhuy2810_train + \"/LeafBlast\"\\nlabel = \"Leaf_Blast\"\\nauthor = \"minhhuy2810\"\\ndata = \"train\"\\nmerge_data(data, path, label, author)\\n        \\npath = minhhuy2810_validation + \"/LeafBlast\"\\nlabel = \"Leaf_Blast\"\\nauthor = \"minhhuy2810\"\\ndata = \"validation\"\\nmerge_data(data, path, label, author)\\n\\npath = labelledrice_train + \"/Leaf_Blast\"\\nlabel = \"Leaf_Blast\"\\nauthor = \"labelledrice\"\\ndata = \"train\"\\nmerge_data(data, path, label, author)\\n        \\npath = labelledrice_validation + \"/Leaf_Blast\"\\nlabel = \"Leaf_Blast\"\\nauthor = \"labelledrice\"\\ndata = \"validation\"\\nmerge_data(data, path, label, author)'"
      ]
     },
     "execution_count": 6,
     "metadata": {},
     "output_type": "execute_result"
    }
   ],
   "source": [
    "# merge all train/validation dataset\n",
    "author = [[\"shayanriyaz\", \"minhhuy2810\"], [\"vbookshelf\", \"labelledrice\"]]\n",
    "data = [\"train\", \"validation\"]\n",
    "label = [\"Brown_Spot\", \"Healthy\", \"Hispa\", \"Leaf_Blast\"]\n",
    "\n",
    "for x in author[0]:\n",
    "    label_path = {\n",
    "        \"Brown_Spot\": \"/BrownSpot\",\n",
    "        \"Healthy\": \"/Healthy\",\n",
    "        \"Hispa\": \"/Hispa\",\n",
    "        \"Leaf_Blast\": \"/LeafBlast\"\n",
    "    }\n",
    "    for y in data:\n",
    "        for z in label:\n",
    "            if x == \"shayanriyaz\":\n",
    "                if y == \"train\":\n",
    "                    path = shayanriyaz_train\n",
    "                elif y == \"validation\":\n",
    "                    path = shayanriyaz_validation\n",
    "                else:\n",
    "                    print(\"Wrong path\")\n",
    "            elif x == \"minhhuy2810\":\n",
    "                if y == \"train\":\n",
    "                    path = minhhuy2810_train\n",
    "                elif y == \"validation\":\n",
    "                    path = minhhuy2810_validation\n",
    "                else:\n",
    "                    print(\"Wrong path\")\n",
    "            else:\n",
    "                print(\"Wrong path\")\n",
    "            merge_data(y, path + label_path[z], z, x)\n",
    "\n",
    "for x in author[1]:\n",
    "    label_path = {\n",
    "        \"Brown_Spot\": \"/Brown_Spot\",\n",
    "        \"Healthy\": \"/Healthy\",\n",
    "        \"Hispa\": \"/Hispa\",\n",
    "        \"Leaf_Blast\": \"/Leaf_Blast\"\n",
    "    }\n",
    "    for y in data:\n",
    "        if x == \"vbookshelf\":\n",
    "            label = [\"Brown_Spot\"]\n",
    "        elif x == \"labelledrice\":\n",
    "            label = [\"Brown_Spot\", \"Healthy\", \"Hispa\", \"Leaf_Blast\"]\n",
    "        else:\n",
    "            print(\"Wrong label\")\n",
    "        for z in label:\n",
    "            if x == \"vbookshelf\":\n",
    "                if y == \"train\":\n",
    "                    path = vbookshelf_train\n",
    "                elif y == \"validation\":\n",
    "                    path = vbookshelf_validation\n",
    "                else:\n",
    "                    print(\"Wrong path\")\n",
    "            elif x == \"labelledrice\":\n",
    "                if y == \"train\":\n",
    "                    path = labelledrice_train\n",
    "                elif y == \"validation\":\n",
    "                    path = labelledrice_validation\n",
    "                else:\n",
    "                    print(\"Wrong path\")\n",
    "            else:\n",
    "                print(\"Wrong path\")\n",
    "            merge_data(y, path + label_path[z], z, x)"
   ]
  },
  {
   "cell_type": "code",
   "execution_count": 7,
   "id": "3dc21b50",
   "metadata": {},
   "outputs": [],
   "source": [
    "label = [\"Brown_Spot\", \"Healthy\", \"Hispa\", \"Leaf_Blast\"]\n",
    "split = [\"train\", \"validation\"]\n",
    "\n",
    "size = (224,224)\n",
    "\n",
    "for x in split:\n",
    "    for y in label:\n",
    "        input_path = 'data/{}/{}'.format(x, y)\n",
    "        resize(input_path, size)"
   ]
  },
  {
   "cell_type": "code",
   "execution_count": 8,
   "id": "59f222e2",
   "metadata": {},
   "outputs": [
    {
     "name": "stdout",
     "output_type": "stream",
     "text": [
      "Total files in Brown_Spot 1212\n",
      "Total files in Healthy 2632\n",
      "Total files in Hispa 1247\n",
      "Total files in Leaf_Blast 1568\n",
      "Total files in Training 6659\n"
     ]
    }
   ],
   "source": [
    "label = [\"Brown_Spot\", \"Healthy\", \"Hispa\", \"Leaf_Blast\"]\n",
    "label_path_train = {\n",
    "    \"Brown_Spot\": 'data/train/Brown_Spot',\n",
    "    \"Healthy\": 'data/train/Healthy',\n",
    "    \"Hispa\": 'data/train/Hispa',\n",
    "    \"Leaf_Blast\": 'data/train/Leaf_Blast'\n",
    "}\n",
    "total = 0\n",
    "for x in label:\n",
    "    print(\"Total files in {}\".format(x), count(label_path_train[x]))\n",
    "    total += count(label_path_train[x])\n",
    "\n",
    "print(\"Total files in Training\", total)"
   ]
  },
  {
   "cell_type": "code",
   "execution_count": 9,
   "id": "42629d44",
   "metadata": {},
   "outputs": [
    {
     "name": "stdout",
     "output_type": "stream",
     "text": [
      "Total files in Brown_Spot 397\n",
      "Total files in Healthy 867\n",
      "Total files in Hispa 406\n",
      "Total files in Leaf_Blast 513\n",
      "Total files in Validation 2183\n"
     ]
    }
   ],
   "source": [
    "label = [\"Brown_Spot\", \"Healthy\", \"Hispa\", \"Leaf_Blast\"]\n",
    "label_path_validation = {\n",
    "    \"Brown_Spot\": 'data/validation/Brown_Spot',\n",
    "    \"Healthy\": 'data/validation/Healthy',\n",
    "    \"Hispa\": 'data/validation/Hispa',\n",
    "    \"Leaf_Blast\": 'data/validation/Leaf_Blast'\n",
    "}\n",
    "total = 0\n",
    "for x in label:\n",
    "    print(\"Total files in {}\".format(x), count(label_path_validation[x]))\n",
    "    total += count(label_path_validation[x])\n",
    "\n",
    "print(\"Total files in Validation\", total)"
   ]
  },
  {
   "cell_type": "code",
   "execution_count": null,
   "id": "1fe60020",
   "metadata": {},
   "outputs": [],
   "source": []
  }
 ],
 "metadata": {
  "kernelspec": {
   "display_name": "Python 3",
   "language": "python",
   "name": "python3"
  },
  "language_info": {
   "codemirror_mode": {
    "name": "ipython",
    "version": 3
   },
   "file_extension": ".py",
   "mimetype": "text/x-python",
   "name": "python",
   "nbconvert_exporter": "python",
   "pygments_lexer": "ipython3",
   "version": "3.8.8"
  }
 },
 "nbformat": 4,
 "nbformat_minor": 5
}
