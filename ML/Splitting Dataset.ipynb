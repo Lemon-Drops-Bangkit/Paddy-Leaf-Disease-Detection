{
 "cells": [
  {
   "cell_type": "code",
   "execution_count": 1,
   "id": "e437f97c",
   "metadata": {},
   "outputs": [],
   "source": [
    "import os\n",
    "from random import shuffle\n",
    "from math import floor\n",
    "import shutil"
   ]
  },
  {
   "cell_type": "code",
   "execution_count": 2,
   "id": "a9e02eba",
   "metadata": {},
   "outputs": [],
   "source": [
    "\"\"\"Helper functions\"\"\"\n",
    "def create_directory(path):\n",
    "    if os.path.exists(path):\n",
    "        shutil.rmtree(path)\n",
    "        os.makedirs(path)\n",
    "        print(\"Directory\", path,  \"Created \")\n",
    "    elif not os.path.exists(path):\n",
    "        os.makedirs(path)\n",
    "        print(\"Directory\", path,  \"Created \")\n",
    "        \n",
    "def copy_file(list, curr, output):\n",
    "    for file in list:\n",
    "        file_path = curr + \"/\" + file\n",
    "        shutil.copy(file_path, output)    \n",
    "\n",
    "def randomize_files(file_list):\n",
    "    shuffle(file_list)        \n",
    "\n",
    "def get_file_list_from_dir(path):\n",
    "    all_files = os.listdir(path)\n",
    "    randomize_files(all_files)\n",
    "    return all_files\n",
    "\n",
    "def splitting(file_list):\n",
    "    split = 0.7\n",
    "    split_index = floor(len(file_list) * split)\n",
    "    training = file_list[:split_index]\n",
    "    testing = file_list[split_index:]\n",
    "    return training, testing\n",
    "\n",
    "def split_train_val(path, label):\n",
    "    output_train = path.rsplit('/', 2)[-2] + '/train/' + label\n",
    "    output_validation = path.rsplit('/', 2)[-2] + '/validation/' + label\n",
    "\n",
    "    create_directory(output_train)\n",
    "    create_directory(output_validation)\n",
    "\n",
    "    get_file = get_file_list_from_dir(path)\n",
    "    list_train_file = splitting(get_file)[0]\n",
    "    list_validation_file = splitting(get_file)[1]\n",
    "\n",
    "    copy_file(list_train_file, path, output_train)\n",
    "    copy_file(list_validation_file, path, output_validation)"
   ]
  },
  {
   "cell_type": "code",
   "execution_count": 3,
   "id": "428f97d8",
   "metadata": {},
   "outputs": [],
   "source": [
    "# path to rice-leaf-diseases dataset from https://www.kaggle.com/vbookshelf/rice-leaf-diseases\n",
    "vbookshelf_img = 'D:/Bangkit/Paddy Leaf/Dataset/rice-leaf-diseases'\n",
    "\n",
    "# path to LabelledRice dataset from https://www.kaggle.com/minhhuy2810/rice-diseases-image-dataset\n",
    "labelledrice_img = 'D:/Bangkit/Paddy Leaf/Dataset/rice-diseases-image-dataset/LabelledRice/Labelled'"
   ]
  },
  {
   "cell_type": "code",
   "execution_count": 4,
   "id": "647dcbe3",
   "metadata": {},
   "outputs": [
    {
     "name": "stdout",
     "output_type": "stream",
     "text": [
      "Directory rice-leaf-diseases/train/Brown_Spot Created \n",
      "Directory rice-leaf-diseases/validation/Brown_Spot Created \n",
      "Directory Labelled/train/Brown_Spot Created \n",
      "Directory Labelled/validation/Brown_Spot Created \n",
      "Directory Labelled/train/Healthy Created \n",
      "Directory Labelled/validation/Healthy Created \n",
      "Directory Labelled/train/Hispa Created \n",
      "Directory Labelled/validation/Hispa Created \n",
      "Directory Labelled/train/Leaf_Blast Created \n",
      "Directory Labelled/validation/Leaf_Blast Created \n"
     ]
    }
   ],
   "source": [
    "# since these rice-leaf-diseases dataset don't have validation dataset, split into train/validation\n",
    "label = [\"Brown_Spot\"]\n",
    "label_path = {\n",
    "    \"Brown_Spot\": vbookshelf_img + \"/Brown spot\"\n",
    "}\n",
    "\n",
    "for x in label:\n",
    "    split_train_val(label_path[x], x)\n",
    "\n",
    "# since these LabelledRice dataset don't have validation dataset, split into train/validation\n",
    "label = [\"Brown_Spot\", \"Healthy\", \"Hispa\", \"Leaf_Blast\"]\n",
    "label_path = {\n",
    "    \"Brown_Spot\": labelledrice_img + \"/BrownSpot\",\n",
    "    \"Healthy\": labelledrice_img + \"/Healthy\",\n",
    "    \"Hispa\": labelledrice_img + \"/Hispa\",\n",
    "    \"Leaf_Blast\": labelledrice_img + \"/LeafBlast\"\n",
    "}\n",
    "\n",
    "for x in label:\n",
    "    split_train_val(label_path[x], x)"
   ]
  },
  {
   "cell_type": "code",
   "execution_count": 6,
   "id": "eeb10ce3",
   "metadata": {},
   "outputs": [
    {
     "name": "stdout",
     "output_type": "stream",
     "text": [
      "shayanriyaz\n",
      "minhhuy2810\n"
     ]
    }
   ],
   "source": [
    "author = [[\"shayanriyaz\", \"minhhuy2810\"], [\"vbookshelf\", \"labelledrice\"]]\n",
    "for x in author[0]:\n",
    "    print(x)"
   ]
  },
  {
   "cell_type": "code",
   "execution_count": null,
   "id": "2374a6bc",
   "metadata": {},
   "outputs": [],
   "source": []
  }
 ],
 "metadata": {
  "kernelspec": {
   "display_name": "Python 3",
   "language": "python",
   "name": "python3"
  },
  "language_info": {
   "codemirror_mode": {
    "name": "ipython",
    "version": 3
   },
   "file_extension": ".py",
   "mimetype": "text/x-python",
   "name": "python",
   "nbconvert_exporter": "python",
   "pygments_lexer": "ipython3",
   "version": "3.8.8"
  }
 },
 "nbformat": 4,
 "nbformat_minor": 5
}
